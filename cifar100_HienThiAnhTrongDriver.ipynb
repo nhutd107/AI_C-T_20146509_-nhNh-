{
  "nbformat": 4,
  "nbformat_minor": 0,
  "metadata": {
    "colab": {
      "provenance": [],
      "mount_file_id": "1UVzpjenRid0iZybRW62ZlUoQ3B0CiCJh",
      "authorship_tag": "ABX9TyMK9wvwX7KtO4F5aj+Bh+N2",
      "include_colab_link": true
    },
    "kernelspec": {
      "name": "python3",
      "display_name": "Python 3"
    },
    "language_info": {
      "name": "python"
    }
  },
  "cells": [
    {
      "cell_type": "markdown",
      "metadata": {
        "id": "view-in-github",
        "colab_type": "text"
      },
      "source": [
        "<a href=\"https://colab.research.google.com/github/nhutd107/AI_CDT_20146509_-D.Nhu-/blob/main/cifar100_HienThiAnhTrongDriver.ipynb\" target=\"_parent\"><img src=\"https://colab.research.google.com/assets/colab-badge.svg\" alt=\"Open In Colab\"/></a>"
      ]
    },
    {
      "cell_type": "code",
      "execution_count": null,
      "metadata": {
        "id": "-SLhCstjT64e"
      },
      "outputs": [],
      "source": [
        "from keras.models import Sequential\n",
        "from keras.models import load_model\n",
        "from keras.layers import Dense\n",
        "import matplotlib.pyplot as plt\n",
        "import numpy as np\n",
        "from keras.utils import to_categorical #lenh chuyen 2 chieu thanh 1 chieu \n",
        "from matplotlib.image import imread\n",
        "from keras.utils import load_img\n",
        "from keras.utils.image_utils import img_to_array\n",
        "\n",
        "folder = '/content/drive/MyDrive/Colab Notebooks/AnhCaNhan61Tam/AnhDaChinhSua30x40/'\n",
        "\n",
        "#Lấy 1 bức đầu tiên để định dạng giá trị cảu x\n",
        "img = load_img('/content/drive/MyDrive/Colab Notebooks/AnhCaNhan61Tam/AnhDaChinhSua30x40/Anh10.jpg',target_size=(32,32))\n",
        "#Tạo x_train với ảnh tương ứng\n",
        "x_train = img\n",
        "#Tạo một y_train mới ứng với số ảnh được load vào\n",
        "y_train = np.array([[1]])\n",
        "\n",
        "#Cho lấy data là 60  bức ảnh\n",
        "#lấy 10 tấm đầu từ 0-9\n",
        "for a in range (10):\n",
        "  #Lấy đường dẫn của file ảnh trong drive\n",
        "    filename = folder + 'Anh' + str(a) + '.jpg'\n",
        "    #Lấy ảnh từ file ảnh\n",
        "    img = load_img(filename,target_size=(32,32))\n",
        "    img = img_to_array(img)\n",
        "\n",
        "    #Thêm ảnh vừa tạo vào x_train\n",
        "    x_train = np.append(x_train, img, 0)\n",
        "    #Làm tương tự cho y_train\n",
        "    mang_stt = [[1]]\n",
        "    y_train = np.append(y_train, mang_stt, 0)\n",
        "\n",
        "#Lấy tiếp 50 tấm còn lại từ 10 đến 59\n",
        "for i in range(5): \n",
        "  for j in range(10):\n",
        "    #Lấy đường dẫn của file ảnh trong drive\n",
        "    filename = folder + 'Anh' + str(i+1) + str(j) + '.jpg'\n",
        "    #Lấy ảnh từ file ảnh\n",
        "    img = load_img(filename,target_size=(32,32))\n",
        "    img = img_to_array(img)\n",
        "\n",
        "    #Thêm ảnh vừa tạo vào x_train\n",
        "    x_train = np.append(x_train, img, 0)\n",
        "    #Làm tương tự cho y_train\n",
        "    mang_stt = [[1]]\n",
        "    y_train = np.append(y_train, mang_stt, 0)\n",
        "#reshape lại data vừa tạo\n",
        "x_train = x_train.reshape((61,32*32*3))\n",
        "x_train = x_train.astype('float32')/255\n",
        "#Tao mo hinh\n",
        "model = Sequential()\n",
        "\n",
        "#tao cac tang input, ao va output can thiet\n",
        "model.add(Dense(31, input_shape = (32*32*3,),activation = 'relu'))\n",
        "#lop giua la lop ao voi 1000 noron\n",
        "model.add(Dense(10, activation = 'relu'))\n",
        "#lop output\n",
        "model.add(Dense(100,activation= 'softmax')) # Sigmoid sẽ đưa ra một giá trị duy nhất nằm giữa 0 và 1\n",
        "model.summary()\n",
        "#Reshape lại y_train\n",
        "y_train = to_categorical(y_train, 100)   #Neu chay di chay lai nhieu lan se khien no tran gia tri\n",
        "y_train.shape\n",
        "#compile\n",
        "model.compile(optimizer = 'rmsprop', loss = 'categorical_crossentropy', metrics = 'accuracy') #bộ tối ưu 'rmsprop', mất mát 'categorical_crossentropy'\n",
        "\n",
        "#train\n",
        "model.fit(x_train, y_train, epochs = 10, batch_size = 61) #học 10 lần -> mỗi lần học 61\n",
        "\n",
        "#load mo hinh tu file da lưu trong drive\n",
        "model100 = load_model('/content/drive/MyDrive/Colab Notebooks/my_model.h5')\n",
        "\n",
        "plt.imshow(img)\n",
        "img = img_to_array(img)\n",
        "img = img.reshape(1, 32*32*3)\n",
        "img = img.astype('float32')\n",
        "img = img/255\n",
        "np.argmax(model100.predict(img), axis=-1)"
      ]
    }
  ]
}
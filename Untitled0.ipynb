{
  "nbformat": 4,
  "nbformat_minor": 0,
  "metadata": {
    "colab": {
      "provenance": [],
      "authorship_tag": "ABX9TyOxLaYbNTN/votbOpmpRiMy",
      "include_colab_link": true
    },
    "kernelspec": {
      "name": "python3",
      "display_name": "Python 3"
    },
    "language_info": {
      "name": "python"
    }
  },
  "cells": [
    {
      "cell_type": "markdown",
      "metadata": {
        "id": "view-in-github",
        "colab_type": "text"
      },
      "source": [
        "<a href=\"https://colab.research.google.com/github/nhutd107/AI_CDT_20146509_-D.Nhu-/blob/main/Untitled0.ipynb\" target=\"_parent\"><img src=\"https://colab.research.google.com/assets/colab-badge.svg\" alt=\"Open In Colab\"/></a>"
      ]
    },
    {
      "cell_type": "code",
      "source": [
        "value2 =input ('nhap so thu 2')\n",
        "value1 =input ('nhap so thu 1')\n",
        "value1 + value2  \n",
        "\n"
      ],
      "metadata": {
        "id": "33ObVwZ5WQwA"
      },
      "execution_count": null,
      "outputs": []
    },
    {
      "cell_type": "code",
      "source": [
        "#write to file\n",
        "with open('text.txt',mode='w')as accounts:\n",
        "  accounts.write('20146509 Truong Dinh Nhu  10/n ')\n",
        "  accounts.write('123456 so trung giai dac biet 6/n')\n",
        "  accounts.write('98765 so trung giai nhat  8/n')\n",
        "\n",
        "\n"
      ],
      "metadata": {
        "id": "KlHKJIB5W8yw"
      },
      "execution_count": 8,
      "outputs": []
    },
    {
      "cell_type": "code",
      "source": [
        "with open('text.txt',mode='w')as accounts:\n",
        "  print('20146 Truong dinh nhu.',file = accounts)"
      ],
      "metadata": {
        "id": "luLgbspWY92D"
      },
      "execution_count": 9,
      "outputs": []
    },
    {
      "cell_type": "code",
      "source": [
        "with open('text.txt',mode='r')as accounts:\n",
        "  print(f\"{'MSSV':<10}{'Name':<20}{'score':>2}\")\n",
        "  for record in accounts:\n",
        "    mssv,name,score = record.split()\n",
        "    print(f\"{mssv:<10}{name:<20}{score:>2}\")\n",
        "    \n",
        "\n"
      ],
      "metadata": {
        "id": "OpMADoPxZutJ"
      },
      "execution_count": null,
      "outputs": []
    },
    {
      "cell_type": "code",
      "source": [
        "import pandas as pd\n",
        "url = 'TEST1.csv'\n",
        "dataframe = pd.read_csv(url)  # biens dataframe \n",
        "dataframe.head(21) "
      ],
      "metadata": {
        "id": "M8H2eFnXbsBE"
      },
      "execution_count": null,
      "outputs": []
    },
    {
      "cell_type": "code",
      "source": [
        "dataframe.iloc[2]       "
      ],
      "metadata": {
        "id": "8tJtJm41fY_z"
      },
      "execution_count": null,
      "outputs": []
    },
    {
      "cell_type": "code",
      "source": [
        "dataframe.iloc[0:10] \n"
      ],
      "metadata": {
        "id": "EJ1vOJVhhmkH"
      },
      "execution_count": null,
      "outputs": []
    },
    {
      "cell_type": "code",
      "source": [
        "dataframe.iloc[:10]"
      ],
      "metadata": {
        "id": "fqxLZDeYhzaP"
      },
      "execution_count": null,
      "outputs": []
    },
    {
      "cell_type": "code",
      "source": [
        "# loc du lieu\n",
        "dataframe = dataframe.set_index(dataframe['khoa'])\n",
        "dataframe.loc['CKM']"
      ],
      "metadata": {
        "id": "S95I9nOdh5yb"
      },
      "execution_count": null,
      "outputs": []
    },
    {
      "cell_type": "code",
      "source": [
        "dataframe[dataframe['khoa'] =='CLC'].head(10)  #loc du lieeuj"
      ],
      "metadata": {
        "id": "Wl7f0rhMii3_"
      },
      "execution_count": null,
      "outputs": []
    },
    {
      "cell_type": "code",
      "source": [
        "#loc nhieu truong\n",
        "dataframe[(dataframe['khoa']==['CLC'])&(dataframe['Lop']==['20C'])]"
      ],
      "metadata": {
        "id": "xA12tDwSjoxr"
      },
      "execution_count": null,
      "outputs": []
    },
    {
      "cell_type": "code",
      "source": [
        "dataframe['khoa'].replace('CKM','co khi may').head(10)     \n",
        "#thay the data "
      ],
      "metadata": {
        "id": "CJ4HS33cmCTF"
      },
      "execution_count": null,
      "outputs": []
    },
    {
      "cell_type": "code",
      "source": [
        "dataframe.replace('CLC','chat luong cao').head(10)"
      ],
      "metadata": {
        "id": "Bs4WDONDmhEG"
      },
      "execution_count": null,
      "outputs": []
    },
    {
      "cell_type": "code",
      "source": [
        "print ('Diem cao nhat: ',dataframe['Diem'].max())"
      ],
      "metadata": {
        "colab": {
          "base_uri": "https://localhost:8080/"
        },
        "id": "ghdmBrA8m-Ea",
        "outputId": "30bf8096-bf70-45e7-8688-5cc2ca0ff32e"
      },
      "execution_count": 47,
      "outputs": [
        {
          "output_type": "stream",
          "name": "stdout",
          "text": [
            "Diem cao nhat:  8.0\n"
          ]
        }
      ]
    },
    {
      "cell_type": "code",
      "source": [
        "#mean: trung binh\n",
        "#dem tu co bao nhieu du lieu giong nhau\n",
        "dataframe['khoa'].unique()\n",
        "dataframe['khoa'].value_counts()"
      ],
      "metadata": {
        "id": "nQP1tiLznjMI"
      },
      "execution_count": null,
      "outputs": []
    },
    {
      "cell_type": "code",
      "source": [
        "#xoa hang , axis bat buoc =1\n",
        "dataframe.drop('No',axis = 1).head(10)"
      ],
      "metadata": {
        "id": "rJOsxj01n6b6"
      },
      "execution_count": null,
      "outputs": []
    },
    {
      "cell_type": "code",
      "source": [
        "#xoa 2 hang\n",
        "dataframe.drop(['No','khoa'],axis = 1).head(7)\n"
      ],
      "metadata": {
        "id": "Wx6-kH1bo2Pg"
      },
      "execution_count": null,
      "outputs": []
    },
    {
      "cell_type": "code",
      "source": [
        "dataframe.drop(dataframe.columns[2:4],axis =1).head(5) #xoa cot"
      ],
      "metadata": {
        "id": "rGaEdu7Zp228"
      },
      "execution_count": null,
      "outputs": []
    },
    {
      "cell_type": "code",
      "source": [
        "dataframe[dataframe['khoa']!='CKM'].head(10) # trong khoa xoa CKM"
      ],
      "metadata": {
        "id": "5Y4_teIiqSxz"
      },
      "execution_count": null,
      "outputs": []
    },
    {
      "cell_type": "code",
      "source": [
        "dataframe[dataframe['Diem']!=8.0].head(10)   #xoa du lieu chi dinh\n"
      ],
      "metadata": {
        "id": "gFPfLsA9qpoC"
      },
      "execution_count": null,
      "outputs": []
    },
    {
      "cell_type": "code",
      "source": [
        "dataframe.groupby['CLC'].count()"
      ],
      "metadata": {
        "id": "KIR_aPVvq_ns"
      },
      "execution_count": null,
      "outputs": []
    },
    {
      "cell_type": "code",
      "source": [
        "dataframe.groupby['khoa']['Diem'].count()"
      ],
      "metadata": {
        "id": "-QcwZZWirpk6"
      },
      "execution_count": null,
      "outputs": []
    },
    {
      "cell_type": "code",
      "source": [
        "#lay mau 1 tuan 1 lan.tgian lay mau laf 30s\n",
        "import pandas as pd\n",
        "import numpy as np\n",
        "time_index = pd.date_range('13/02/2023',periods  = 1000000,freq='30s')\n",
        "dataframe =pd.DataFrame(index = time_index)\n",
        "dataframe['Acess_Amount']= np.random.randint (1,10,1000000)\n",
        "dataframe.resample('W').sum()\n"
      ],
      "metadata": {
        "id": "e7TXM9Frsj7v"
      },
      "execution_count": null,
      "outputs": []
    },
    {
      "cell_type": "code",
      "source": [
        "dataframe.resample('2W').mean() # theo 2 tuan\n",
        "dataframe.resample('M').mean()  #theo 1 thang\n",
        "\n"
      ],
      "metadata": {
        "id": "MWNKdFzCuFb7"
      },
      "execution_count": null,
      "outputs": []
    },
    {
      "cell_type": "code",
      "source": [
        "import pandas as pd \n",
        "url = 'http://Winterolympicsmedals.com/medals.csv '\n",
        "data = pd.read_csv(url)\n",
        "data\n",
        "#tim so luong huy chuong cua 1 nuoc\n",
        "#tim so huy chuong vang theo mon thi ca nhan"
      ],
      "metadata": {
        "colab": {
          "base_uri": "https://localhost:8080/",
          "height": 423
        },
        "id": "Ep2gNMdR0Bk2",
        "outputId": "52b1fa85-ea6b-4259-e999-c7b019527498"
      },
      "execution_count": 83,
      "outputs": [
        {
          "output_type": "execute_result",
          "data": {
            "text/plain": [
              "      Year      City       Sport      Discipline  NOC            Event  \\\n",
              "0     1924  Chamonix     Skating  Figure skating  AUT       individual   \n",
              "1     1924  Chamonix     Skating  Figure skating  AUT       individual   \n",
              "2     1924  Chamonix     Skating  Figure skating  AUT            pairs   \n",
              "3     1924  Chamonix   Bobsleigh       Bobsleigh  BEL         four-man   \n",
              "4     1924  Chamonix  Ice Hockey      Ice Hockey  CAN       ice hockey   \n",
              "...    ...       ...         ...             ...  ...              ...   \n",
              "2306  2006     Turin      Skiing       Snowboard  USA        Half-pipe   \n",
              "2307  2006     Turin      Skiing       Snowboard  USA        Half-pipe   \n",
              "2308  2006     Turin      Skiing       Snowboard  USA        Half-pipe   \n",
              "2309  2006     Turin      Skiing       Snowboard  USA  Snowboard Cross   \n",
              "2310  2006     Turin      Skiing       Snowboard  USA  Snowboard Cross   \n",
              "\n",
              "     Event gender   Medal  \n",
              "0               M  Silver  \n",
              "1               W    Gold  \n",
              "2               X    Gold  \n",
              "3               M  Bronze  \n",
              "4               M    Gold  \n",
              "...           ...     ...  \n",
              "2306            M  Silver  \n",
              "2307            W    Gold  \n",
              "2308            W  Silver  \n",
              "2309            M    Gold  \n",
              "2310            W  Silver  \n",
              "\n",
              "[2311 rows x 8 columns]"
            ],
            "text/html": [
              "\n",
              "  <div id=\"df-829cf1cb-79bd-40b7-a019-aceead7c52a4\">\n",
              "    <div class=\"colab-df-container\">\n",
              "      <div>\n",
              "<style scoped>\n",
              "    .dataframe tbody tr th:only-of-type {\n",
              "        vertical-align: middle;\n",
              "    }\n",
              "\n",
              "    .dataframe tbody tr th {\n",
              "        vertical-align: top;\n",
              "    }\n",
              "\n",
              "    .dataframe thead th {\n",
              "        text-align: right;\n",
              "    }\n",
              "</style>\n",
              "<table border=\"1\" class=\"dataframe\">\n",
              "  <thead>\n",
              "    <tr style=\"text-align: right;\">\n",
              "      <th></th>\n",
              "      <th>Year</th>\n",
              "      <th>City</th>\n",
              "      <th>Sport</th>\n",
              "      <th>Discipline</th>\n",
              "      <th>NOC</th>\n",
              "      <th>Event</th>\n",
              "      <th>Event gender</th>\n",
              "      <th>Medal</th>\n",
              "    </tr>\n",
              "  </thead>\n",
              "  <tbody>\n",
              "    <tr>\n",
              "      <th>0</th>\n",
              "      <td>1924</td>\n",
              "      <td>Chamonix</td>\n",
              "      <td>Skating</td>\n",
              "      <td>Figure skating</td>\n",
              "      <td>AUT</td>\n",
              "      <td>individual</td>\n",
              "      <td>M</td>\n",
              "      <td>Silver</td>\n",
              "    </tr>\n",
              "    <tr>\n",
              "      <th>1</th>\n",
              "      <td>1924</td>\n",
              "      <td>Chamonix</td>\n",
              "      <td>Skating</td>\n",
              "      <td>Figure skating</td>\n",
              "      <td>AUT</td>\n",
              "      <td>individual</td>\n",
              "      <td>W</td>\n",
              "      <td>Gold</td>\n",
              "    </tr>\n",
              "    <tr>\n",
              "      <th>2</th>\n",
              "      <td>1924</td>\n",
              "      <td>Chamonix</td>\n",
              "      <td>Skating</td>\n",
              "      <td>Figure skating</td>\n",
              "      <td>AUT</td>\n",
              "      <td>pairs</td>\n",
              "      <td>X</td>\n",
              "      <td>Gold</td>\n",
              "    </tr>\n",
              "    <tr>\n",
              "      <th>3</th>\n",
              "      <td>1924</td>\n",
              "      <td>Chamonix</td>\n",
              "      <td>Bobsleigh</td>\n",
              "      <td>Bobsleigh</td>\n",
              "      <td>BEL</td>\n",
              "      <td>four-man</td>\n",
              "      <td>M</td>\n",
              "      <td>Bronze</td>\n",
              "    </tr>\n",
              "    <tr>\n",
              "      <th>4</th>\n",
              "      <td>1924</td>\n",
              "      <td>Chamonix</td>\n",
              "      <td>Ice Hockey</td>\n",
              "      <td>Ice Hockey</td>\n",
              "      <td>CAN</td>\n",
              "      <td>ice hockey</td>\n",
              "      <td>M</td>\n",
              "      <td>Gold</td>\n",
              "    </tr>\n",
              "    <tr>\n",
              "      <th>...</th>\n",
              "      <td>...</td>\n",
              "      <td>...</td>\n",
              "      <td>...</td>\n",
              "      <td>...</td>\n",
              "      <td>...</td>\n",
              "      <td>...</td>\n",
              "      <td>...</td>\n",
              "      <td>...</td>\n",
              "    </tr>\n",
              "    <tr>\n",
              "      <th>2306</th>\n",
              "      <td>2006</td>\n",
              "      <td>Turin</td>\n",
              "      <td>Skiing</td>\n",
              "      <td>Snowboard</td>\n",
              "      <td>USA</td>\n",
              "      <td>Half-pipe</td>\n",
              "      <td>M</td>\n",
              "      <td>Silver</td>\n",
              "    </tr>\n",
              "    <tr>\n",
              "      <th>2307</th>\n",
              "      <td>2006</td>\n",
              "      <td>Turin</td>\n",
              "      <td>Skiing</td>\n",
              "      <td>Snowboard</td>\n",
              "      <td>USA</td>\n",
              "      <td>Half-pipe</td>\n",
              "      <td>W</td>\n",
              "      <td>Gold</td>\n",
              "    </tr>\n",
              "    <tr>\n",
              "      <th>2308</th>\n",
              "      <td>2006</td>\n",
              "      <td>Turin</td>\n",
              "      <td>Skiing</td>\n",
              "      <td>Snowboard</td>\n",
              "      <td>USA</td>\n",
              "      <td>Half-pipe</td>\n",
              "      <td>W</td>\n",
              "      <td>Silver</td>\n",
              "    </tr>\n",
              "    <tr>\n",
              "      <th>2309</th>\n",
              "      <td>2006</td>\n",
              "      <td>Turin</td>\n",
              "      <td>Skiing</td>\n",
              "      <td>Snowboard</td>\n",
              "      <td>USA</td>\n",
              "      <td>Snowboard Cross</td>\n",
              "      <td>M</td>\n",
              "      <td>Gold</td>\n",
              "    </tr>\n",
              "    <tr>\n",
              "      <th>2310</th>\n",
              "      <td>2006</td>\n",
              "      <td>Turin</td>\n",
              "      <td>Skiing</td>\n",
              "      <td>Snowboard</td>\n",
              "      <td>USA</td>\n",
              "      <td>Snowboard Cross</td>\n",
              "      <td>W</td>\n",
              "      <td>Silver</td>\n",
              "    </tr>\n",
              "  </tbody>\n",
              "</table>\n",
              "<p>2311 rows × 8 columns</p>\n",
              "</div>\n",
              "      <button class=\"colab-df-convert\" onclick=\"convertToInteractive('df-829cf1cb-79bd-40b7-a019-aceead7c52a4')\"\n",
              "              title=\"Convert this dataframe to an interactive table.\"\n",
              "              style=\"display:none;\">\n",
              "        \n",
              "  <svg xmlns=\"http://www.w3.org/2000/svg\" height=\"24px\"viewBox=\"0 0 24 24\"\n",
              "       width=\"24px\">\n",
              "    <path d=\"M0 0h24v24H0V0z\" fill=\"none\"/>\n",
              "    <path d=\"M18.56 5.44l.94 2.06.94-2.06 2.06-.94-2.06-.94-.94-2.06-.94 2.06-2.06.94zm-11 1L8.5 8.5l.94-2.06 2.06-.94-2.06-.94L8.5 2.5l-.94 2.06-2.06.94zm10 10l.94 2.06.94-2.06 2.06-.94-2.06-.94-.94-2.06-.94 2.06-2.06.94z\"/><path d=\"M17.41 7.96l-1.37-1.37c-.4-.4-.92-.59-1.43-.59-.52 0-1.04.2-1.43.59L10.3 9.45l-7.72 7.72c-.78.78-.78 2.05 0 2.83L4 21.41c.39.39.9.59 1.41.59.51 0 1.02-.2 1.41-.59l7.78-7.78 2.81-2.81c.8-.78.8-2.07 0-2.86zM5.41 20L4 18.59l7.72-7.72 1.47 1.35L5.41 20z\"/>\n",
              "  </svg>\n",
              "      </button>\n",
              "      \n",
              "  <style>\n",
              "    .colab-df-container {\n",
              "      display:flex;\n",
              "      flex-wrap:wrap;\n",
              "      gap: 12px;\n",
              "    }\n",
              "\n",
              "    .colab-df-convert {\n",
              "      background-color: #E8F0FE;\n",
              "      border: none;\n",
              "      border-radius: 50%;\n",
              "      cursor: pointer;\n",
              "      display: none;\n",
              "      fill: #1967D2;\n",
              "      height: 32px;\n",
              "      padding: 0 0 0 0;\n",
              "      width: 32px;\n",
              "    }\n",
              "\n",
              "    .colab-df-convert:hover {\n",
              "      background-color: #E2EBFA;\n",
              "      box-shadow: 0px 1px 2px rgba(60, 64, 67, 0.3), 0px 1px 3px 1px rgba(60, 64, 67, 0.15);\n",
              "      fill: #174EA6;\n",
              "    }\n",
              "\n",
              "    [theme=dark] .colab-df-convert {\n",
              "      background-color: #3B4455;\n",
              "      fill: #D2E3FC;\n",
              "    }\n",
              "\n",
              "    [theme=dark] .colab-df-convert:hover {\n",
              "      background-color: #434B5C;\n",
              "      box-shadow: 0px 1px 3px 1px rgba(0, 0, 0, 0.15);\n",
              "      filter: drop-shadow(0px 1px 2px rgba(0, 0, 0, 0.3));\n",
              "      fill: #FFFFFF;\n",
              "    }\n",
              "  </style>\n",
              "\n",
              "      <script>\n",
              "        const buttonEl =\n",
              "          document.querySelector('#df-829cf1cb-79bd-40b7-a019-aceead7c52a4 button.colab-df-convert');\n",
              "        buttonEl.style.display =\n",
              "          google.colab.kernel.accessAllowed ? 'block' : 'none';\n",
              "\n",
              "        async function convertToInteractive(key) {\n",
              "          const element = document.querySelector('#df-829cf1cb-79bd-40b7-a019-aceead7c52a4');\n",
              "          const dataTable =\n",
              "            await google.colab.kernel.invokeFunction('convertToInteractive',\n",
              "                                                     [key], {});\n",
              "          if (!dataTable) return;\n",
              "\n",
              "          const docLinkHtml = 'Like what you see? Visit the ' +\n",
              "            '<a target=\"_blank\" href=https://colab.research.google.com/notebooks/data_table.ipynb>data table notebook</a>'\n",
              "            + ' to learn more about interactive tables.';\n",
              "          element.innerHTML = '';\n",
              "          dataTable['output_type'] = 'display_data';\n",
              "          await google.colab.output.renderOutput(dataTable, element);\n",
              "          const docLink = document.createElement('div');\n",
              "          docLink.innerHTML = docLinkHtml;\n",
              "          element.appendChild(docLink);\n",
              "        }\n",
              "      </script>\n",
              "    </div>\n",
              "  </div>\n",
              "  "
            ]
          },
          "metadata": {},
          "execution_count": 83
        }
      ]
    },
    {
      "cell_type": "code",
      "source": [
        "data[data['Medal'] =='Gold'].count()"
      ],
      "metadata": {
        "colab": {
          "base_uri": "https://localhost:8080/"
        },
        "id": "dwtZD1Rk1S83",
        "outputId": "b06779de-8859-43f1-8656-112e4e02009a"
      },
      "execution_count": 92,
      "outputs": [
        {
          "output_type": "execute_result",
          "data": {
            "text/plain": [
              "Year            774\n",
              "City            774\n",
              "Sport           774\n",
              "Discipline      774\n",
              "NOC             774\n",
              "Event           774\n",
              "Event gender    774\n",
              "Medal           774\n",
              "dtype: int64"
            ]
          },
          "metadata": {},
          "execution_count": 92
        }
      ]
    },
    {
      "cell_type": "code",
      "source": [],
      "metadata": {
        "id": "p0TMn9Fy58Uu"
      },
      "execution_count": null,
      "outputs": []
    },
    {
      "cell_type": "code",
      "source": [
        "data[data['Medal'] =='Gold']\n",
        "data[data['NOC']=='USA'].value_counts()\n",
        "\n",
        "# data[data['NOC']=='USA']\n",
        "\n",
        "#data[data['Medal'] =='Gold' & data['NOC'] == \"USA\"]"
      ],
      "metadata": {
        "id": "MBWp0l3K3fmr"
      },
      "execution_count": null,
      "outputs": []
    },
    {
      "cell_type": "code",
      "source": [
        "dataframe.groupby('NOC')['Medal'].count()\n"
      ],
      "metadata": {
        "id": "97KIXXvR489E"
      },
      "execution_count": null,
      "outputs": []
    },
    {
      "cell_type": "code",
      "source": [
        "import pandas as pd\n",
        "url='http://winterolympicsmedals.com/medals.csv'\n",
        "data=pd.read_csv(url)\n",
        "data.groupby('NOC')['Medal'].count()\n"
      ],
      "metadata": {
        "colab": {
          "base_uri": "https://localhost:8080/"
        },
        "id": "SIiO5eX89eIg",
        "outputId": "a7aa0009-3683-48cf-bd87-4a5419ce65fb"
      },
      "execution_count": 120,
      "outputs": [
        {
          "output_type": "execute_result",
          "data": {
            "text/plain": [
              "NOC\n",
              "AUS      6\n",
              "AUT    185\n",
              "BEL      5\n",
              "BLR      6\n",
              "BUL      6\n",
              "CAN    119\n",
              "CHN     33\n",
              "CRO      7\n",
              "CZE     10\n",
              "DEN      1\n",
              "ESP      2\n",
              "EST      6\n",
              "EUA     19\n",
              "EUN     23\n",
              "FIN    151\n",
              "FRA     83\n",
              "FRG     41\n",
              "GBR     21\n",
              "GDR    110\n",
              "GER    158\n",
              "HUN      6\n",
              "ITA    101\n",
              "JPN     32\n",
              "KAZ      5\n",
              "KOR     31\n",
              "LAT      1\n",
              "LIE      9\n",
              "LUX      2\n",
              "NED     78\n",
              "NOR    280\n",
              "NZL      1\n",
              "POL      8\n",
              "PRK      2\n",
              "ROU      1\n",
              "RUS     76\n",
              "SLO      4\n",
              "SUI    118\n",
              "SVK      1\n",
              "SWE    118\n",
              "TCH     25\n",
              "UKR      5\n",
              "URS    194\n",
              "USA    216\n",
              "UZB      1\n",
              "YUG      4\n",
              "Name: Medal, dtype: int64"
            ]
          },
          "metadata": {},
          "execution_count": 120
        }
      ]
    },
    {
      "cell_type": "code",
      "source": [],
      "metadata": {
        "id": "MA3mUmlK9nNx"
      },
      "execution_count": null,
      "outputs": []
    }
  ]
}
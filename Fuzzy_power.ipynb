{
  "nbformat": 4,
  "nbformat_minor": 0,
  "metadata": {
    "colab": {
      "provenance": [],
      "authorship_tag": "ABX9TyMAUrNM/BbtJwWvM/fiVQmS",
      "include_colab_link": true
    },
    "kernelspec": {
      "name": "python3",
      "display_name": "Python 3"
    },
    "language_info": {
      "name": "python"
    }
  },
  "cells": [
    {
      "cell_type": "markdown",
      "metadata": {
        "id": "view-in-github",
        "colab_type": "text"
      },
      "source": [
        "<a href=\"https://colab.research.google.com/github/nhutd107/AI_CDT_20146509_-D.Nhu-/blob/main/Fuzzy_power.ipynb\" target=\"_parent\"><img src=\"https://colab.research.google.com/assets/colab-badge.svg\" alt=\"Open In Colab\"/></a>"
      ]
    },
    {
      "cell_type": "code",
      "source": [
        "pip install scikit-fuzzy\n"
      ],
      "metadata": {
        "id": "jWUZwExPmhXQ"
      },
      "execution_count": null,
      "outputs": []
    },
    {
      "cell_type": "code",
      "source": [
        "import numpy as np\n",
        "import skfuzzy as fuzz\n",
        "from skfuzzy import  control as ctrl\n",
        "\n",
        "\n",
        "#tạo biến và xác định khoảng giá trị\n",
        "time = ctrl.Antecedent(np.arange(10,350,1),'time')\n",
        "rice = ctrl.Antecedent(np.arange(100,2500,1),'rice')\n",
        "power = ctrl.Consequent(np.arange(0,120,1),'power')\n",
        "#5 giá trị cần liệt kê: ( nhanh-rất nhanh-trung bình-chậm-rất chậm)\n",
        "#đồ thị của  thời gian    # (fast-veryfast-avg-slow-veryslow)\n",
        "time['veryslow']= fuzz.trimf(time.universe,[10,20,30])\n",
        "time['slow']= fuzz.trimf(time.universe,[30,40,50])\n",
        "time['avg']= fuzz.trimf(time.universe,[45,70,120])\n",
        "time['fast']= fuzz.trimf(time.universe,[100,200,250])\n",
        "time['veryfast']= fuzz.trimf(time.universe,[170,270,300])\n",
        "\n",
        "#đồ thị của  lượng gạo   \n",
        "rice['veryslow']= fuzz.trimf(rice.universe,[100,150,200])\n",
        "rice['slow']= fuzz.trimf(rice.universe,[200,300,350])\n",
        "rice['avg']= fuzz.trimf(rice.universe,[350,600,1000])\n",
        "rice['fast']= fuzz.trimf(rice.universe,[1000,1500,1800])\n",
        "rice['veryfast']= fuzz.trimf(rice.universe,[1500,1750,2000])\n",
        "#vẽ power\n",
        "\n",
        "power['veryless']= fuzz.trimf(power.universe,[0,0,10])\n",
        "power['less']= fuzz.trimf(power.universe,[10,25,40])\n",
        "power['tam tam']= fuzz.trimf(power.universe,[40,50,60])\n",
        "power['hight']= fuzz.trimf(power.universe,[50,70,80])\n",
        "power['veryhight']= fuzz.trimf(power.universe,[60,80,100])\n",
        "\n",
        "#luật cho các trường hợp\n",
        "#ta sẽ cần 25 luật cho nồi cơm điện này\n",
        "rule1 = ctrl.Rule(time['veryslow']&rice['veryslow'],power['veryless'])\n",
        "rule2 = ctrl.Rule(time['slow']&rice['veryslow'],power['veryless'])\n",
        "rule3 = ctrl.Rule(time['avg']&rice['veryslow'],power['less'])\n",
        "rule4 = ctrl.Rule(time['fast']&rice['veryslow'],power['tam tam'])\n",
        "rule5 = ctrl.Rule(time['veryfast']&rice['veryslow'],power['less'])\n",
        "\n",
        "rule6 = ctrl.Rule(time['veryslow']&rice['slow'],power['veryless'])\n",
        "rule7 = ctrl.Rule(time['slow']&rice['slow'],power['less'])\n",
        "rule8 = ctrl.Rule(time['avg']&rice['slow'],power['less'])\n",
        "rule9 = ctrl.Rule(time['fast']&rice['slow'],power['less'])\n",
        "rule10 = ctrl.Rule(time['veryfast']&rice['slow'],power['hight'])\n",
        "\n",
        "rule11 = ctrl.Rule(time['veryslow']&rice['avg'],power['tam tam'])\n",
        "rule12 = ctrl.Rule(time['slow']&rice['avg'],power['less'])\n",
        "rule13 = ctrl.Rule(time['avg']&rice['avg'],power['tam tam'])\n",
        "rule14 = ctrl.Rule(time['fast']&rice['avg'],power['hight'])\n",
        "rule15 = ctrl.Rule(time['veryfast']&rice['avg'],power['hight'])\n",
        "\n",
        "rule16 = ctrl.Rule(time['veryslow']&rice['fast'],power['less'])\n",
        "rule17 = ctrl.Rule(time['slow']&rice['fast'],power['tam tam'])\n",
        "rule18 = ctrl.Rule(time['avg']&rice['fast'],power['tam tam'])\n",
        "rule19 = ctrl.Rule(time['fast']&rice['fast'],power['hight'])\n",
        "rule20 = ctrl.Rule(time['veryfast']&rice['fast'],power['veryhight'])\n",
        "\n",
        "rule21 = ctrl.Rule(time['veryslow']&rice['veryfast'],power['tam tam'])\n",
        "rule22 = ctrl.Rule(time['slow']&rice['veryfast'],power['tam tam'])\n",
        "rule23 = ctrl.Rule(time['avg']&rice['veryfast'],power['hight'])\n",
        "rule24 = ctrl.Rule(time['fast']&rice['veryfast'],power['veryhight'])\n",
        "rule25 = ctrl.Rule(time['veryfast']&rice['veryfast'],power['veryhight'])\n",
        "\n",
        "\n",
        "## đưa all các luật vào\n",
        "powering_ctrl = ctrl.ControlSystem([rule1,rule2,rule3,rule4,rule5,rule6,rule7,rule8,rule9,rule10,rule11,rule12,rule13,rule14,rule15,rule16,rule17,rule18,rule19,rule20,rule21,rule22,rule23,rule24,rule25])\n",
        "#học luâth\n",
        "powering = ctrl.ControlSystemSimulation(powering_ctrl)\n",
        "powering.input['time']=100        #giá trị đọc từ cảm biến\n",
        "powering.input['rice'] = 1000  #giá trị đọc từ cảm biến\n",
        "#tính toán\n",
        "powering.compute\n",
        "#xuất ra màn hình\n",
        "print(powering.output['power'])\n",
        "power.view(sim = powering)"
      ],
      "metadata": {
        "id": "BmHqShgiqIMN",
        "colab": {
          "base_uri": "https://localhost:8080/",
          "height": 217
        },
        "outputId": "a5dcfb04-b048-4516-cdbf-c4c2512c4ead"
      },
      "execution_count": 62,
      "outputs": [
        {
          "output_type": "error",
          "ename": "KeyError",
          "evalue": "ignored",
          "traceback": [
            "\u001b[0;31m---------------------------------------------------------------------------\u001b[0m",
            "\u001b[0;31mKeyError\u001b[0m                                  Traceback (most recent call last)",
            "\u001b[0;32m<ipython-input-62-13e3242f3ad2>\u001b[0m in \u001b[0;36m<module>\u001b[0;34m\u001b[0m\n\u001b[1;32m     72\u001b[0m \u001b[0mpowering\u001b[0m\u001b[0;34m.\u001b[0m\u001b[0mcompute\u001b[0m\u001b[0;34m\u001b[0m\u001b[0;34m\u001b[0m\u001b[0m\n\u001b[1;32m     73\u001b[0m \u001b[0;31m#xuất ra màn hình\u001b[0m\u001b[0;34m\u001b[0m\u001b[0;34m\u001b[0m\u001b[0;34m\u001b[0m\u001b[0m\n\u001b[0;32m---> 74\u001b[0;31m \u001b[0mprint\u001b[0m\u001b[0;34m(\u001b[0m\u001b[0mpowering\u001b[0m\u001b[0;34m.\u001b[0m\u001b[0moutput\u001b[0m\u001b[0;34m[\u001b[0m\u001b[0;34m'power'\u001b[0m\u001b[0;34m]\u001b[0m\u001b[0;34m)\u001b[0m\u001b[0;34m\u001b[0m\u001b[0;34m\u001b[0m\u001b[0m\n\u001b[0m\u001b[1;32m     75\u001b[0m \u001b[0mpower\u001b[0m\u001b[0;34m.\u001b[0m\u001b[0mview\u001b[0m\u001b[0;34m(\u001b[0m\u001b[0msim\u001b[0m \u001b[0;34m=\u001b[0m \u001b[0mpowering\u001b[0m\u001b[0;34m)\u001b[0m\u001b[0;34m\u001b[0m\u001b[0;34m\u001b[0m\u001b[0m\n",
            "\u001b[0;31mKeyError\u001b[0m: 'power'"
          ]
        }
      ]
    },
    {
      "cell_type": "markdown",
      "source": [],
      "metadata": {
        "id": "KxLBQxNbzKgq"
      }
    }
  ]
}
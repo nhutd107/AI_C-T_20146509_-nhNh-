{
  "nbformat": 4,
  "nbformat_minor": 0,
  "metadata": {
    "colab": {
      "provenance": [],
      "mount_file_id": "1UDdVmtoXrtfFRi4VKawyuKlMlGeE0ULI",
      "authorship_tag": "ABX9TyMNYyhANzPwHnZyqvyBEg3b",
      "include_colab_link": true
    },
    "kernelspec": {
      "name": "python3",
      "display_name": "Python 3"
    },
    "language_info": {
      "name": "python"
    }
  },
  "cells": [
    {
      "cell_type": "markdown",
      "metadata": {
        "id": "view-in-github",
        "colab_type": "text"
      },
      "source": [
        "<a href=\"https://colab.research.google.com/github/nhutd107/AI_CDT_20146509_-D.Nhu-/blob/main/DaoTaoVaLuuTrongDriver.ipynb\" target=\"_parent\"><img src=\"https://colab.research.google.com/assets/colab-badge.svg\" alt=\"Open In Colab\"/></a>"
      ]
    },
    {
      "cell_type": "code",
      "execution_count": 3,
      "metadata": {
        "colab": {
          "base_uri": "https://localhost:8080/"
        },
        "id": "EAitp5EjHNCP",
        "outputId": "2e7a7314-a94e-4a26-d78c-21317b2abe4f"
      },
      "outputs": [
        {
          "output_type": "stream",
          "name": "stdout",
          "text": [
            "(50000, 32, 32, 3)\n",
            "(10000, 32, 32, 3)\n",
            "(50000, 1)\n",
            "(10000, 1)\n"
          ]
        }
      ],
      "source": [
        "from keras.datasets import cifar100\n",
        "from keras.datasets import cifar100\n",
        "from keras.models import Sequential  #thư viên cấu hình\n",
        "from keras.layers import Dense\n",
        "import matplotlib.pyplot as plt\n",
        "\n",
        "# load the CIFAR-100 dataset\n",
        "(x_train, y_train), (x_test, y_test) = cifar100.load_data()\n",
        "\n",
        "print(x_train.shape)\n",
        "print(x_test.shape)\n",
        "print(y_train.shape)\n",
        "print(y_test.shape)\n"
      ]
    },
    {
      "cell_type": "code",
      "source": [
        "print('số lượng ảnh trong tập huấn luyện: ',x_train.shape[0])\n",
        "print('số lượng ảnh trong tập kiểm tra: ' ,x_test.shape[0])\n",
        "\n",
        "#đổi man 4 chieu vè 2 chieu [50000,3072]\n",
        "x_train = x_train.reshape(50000,32*32*3)\n",
        "x_train = x_train.astype('float32') / 255\n",
        "x_test = x_test.reshape(10000,32*32*3)\n",
        "x_test = x_test.astype('float32') / 255"
      ],
      "metadata": {
        "colab": {
          "base_uri": "https://localhost:8080/"
        },
        "id": "w7O06542HP9f",
        "outputId": "45a3d370-1a6f-4974-cba5-d30518384483"
      },
      "execution_count": 4,
      "outputs": [
        {
          "output_type": "stream",
          "name": "stdout",
          "text": [
            "số lượng ảnh trong tập huấn luyện:  50000\n",
            "số lượng ảnh trong tập kiểm tra:  10000\n"
          ]
        }
      ]
    },
    {
      "cell_type": "code",
      "source": [
        "from keras.utils import to_categorical\n",
        "\n",
        "#sử lí nhãn trước khi\n",
        "y_train = to_categorical(y_train, 100)\n",
        "y_test = to_categorical(y_test, 100)"
      ],
      "metadata": {
        "id": "2caEwH8PHRrv"
      },
      "execution_count": 5,
      "outputs": []
    },
    {
      "cell_type": "code",
      "source": [
        "#cấu hình\n",
        "from keras.models import Sequential  \n",
        "from keras.layers import Dense\n",
        "\n",
        "# create a sequential model\n",
        "model = Sequential()\n",
        "\n",
        "#tạo mô hình\n",
        "model.add(Dense(2000, input_shape=(32*32*3,), activation='relu'))\n",
        "model.add(Dense(1000, activation='relu'))\n",
        "model.add(Dense(100, activation='softmax'))\n",
        "\n",
        "#biên dịch\n",
        "model.compile(loss='categorical_crossentropy', optimizer='adam', metrics=['accuracy'])\n",
        "\n",
        "#huấn luyện\n",
        "model.fit(x_train, y_train, batch_size=128, epochs=10)\n",
        "\n",
        "#độ chính xác \n",
        "loss, accuracy = model.evaluate(x_test, y_test)\n",
        "print('Accuracy:', accuracy)"
      ],
      "metadata": {
        "colab": {
          "base_uri": "https://localhost:8080/"
        },
        "id": "xJBNKLC8HUtx",
        "outputId": "8db4b029-bf49-49e4-bde5-87f1eea04d1e"
      },
      "execution_count": 6,
      "outputs": [
        {
          "output_type": "stream",
          "name": "stdout",
          "text": [
            "Epoch 1/10\n",
            "391/391 [==============================] - 75s 185ms/step - loss: 4.1095 - accuracy: 0.0794\n",
            "Epoch 2/10\n",
            "391/391 [==============================] - 65s 167ms/step - loss: 3.6443 - accuracy: 0.1463\n",
            "Epoch 3/10\n",
            "391/391 [==============================] - 64s 163ms/step - loss: 3.4642 - accuracy: 0.1792\n",
            "Epoch 4/10\n",
            "391/391 [==============================] - 63s 161ms/step - loss: 3.3427 - accuracy: 0.1994\n",
            "Epoch 5/10\n",
            "391/391 [==============================] - 66s 170ms/step - loss: 3.2457 - accuracy: 0.2156\n",
            "Epoch 6/10\n",
            "391/391 [==============================] - 61s 156ms/step - loss: 3.1541 - accuracy: 0.2338\n",
            "Epoch 7/10\n",
            "391/391 [==============================] - 63s 160ms/step - loss: 3.0758 - accuracy: 0.2473\n",
            "Epoch 8/10\n",
            "391/391 [==============================] - 65s 165ms/step - loss: 2.9970 - accuracy: 0.2594\n",
            "Epoch 9/10\n",
            "391/391 [==============================] - 62s 160ms/step - loss: 2.9252 - accuracy: 0.2724\n",
            "Epoch 10/10\n",
            "391/391 [==============================] - 63s 160ms/step - loss: 2.8574 - accuracy: 0.2852\n",
            "313/313 [==============================] - 7s 23ms/step - loss: 3.2518 - accuracy: 0.2375\n",
            "Accuracy: 0.23749999701976776\n"
          ]
        }
      ]
    },
    {
      "cell_type": "code",
      "source": [
        "from keras.models import load_model\n",
        "\n",
        "#lưu data vào driver\n",
        "model.save('/content/drive/MyDrive/Colab Notebooks/my_model.h5')"
      ],
      "metadata": {
        "id": "HprmDP3bHW7-"
      },
      "execution_count": 7,
      "outputs": []
    }
  ]
}
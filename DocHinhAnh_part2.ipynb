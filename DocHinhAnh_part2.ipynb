{
  "nbformat": 4,
  "nbformat_minor": 0,
  "metadata": {
    "colab": {
      "provenance": [],
      "authorship_tag": "ABX9TyOzCkgUdkPUAE2f+ehM8FSZ",
      "include_colab_link": true
    },
    "kernelspec": {
      "name": "python3",
      "display_name": "Python 3"
    },
    "language_info": {
      "name": "python"
    }
  },
  "cells": [
    {
      "cell_type": "markdown",
      "metadata": {
        "id": "view-in-github",
        "colab_type": "text"
      },
      "source": [
        "<a href=\"https://colab.research.google.com/github/nhutd107/AI_CDT_20146509_-D.Nhu-/blob/main/DocHinhAnh_part2.ipynb\" target=\"_parent\"><img src=\"https://colab.research.google.com/assets/colab-badge.svg\" alt=\"Open In Colab\"/></a>"
      ]
    },
    {
      "cell_type": "code",
      "execution_count": 1,
      "metadata": {
        "colab": {
          "base_uri": "https://localhost:8080/"
        },
        "id": "6TPabhuHDCV2",
        "outputId": "4397930d-b7bd-4a33-a101-228fa638473c"
      },
      "outputs": [
        {
          "output_type": "stream",
          "name": "stdout",
          "text": [
            "Downloading data from https://storage.googleapis.com/tensorflow/tf-keras-datasets/mnist.npz\n",
            "11490434/11490434 [==============================] - 1s 0us/step\n"
          ]
        },
        {
          "output_type": "execute_result",
          "data": {
            "text/plain": [
              "(60000, 28, 28)"
            ]
          },
          "metadata": {},
          "execution_count": 1
        }
      ],
      "source": [
        "from keras.datasets import mnist\n",
        "from tensorflow.keras import models\n",
        "import matplotlib.pyplot as plt\n",
        "from tensorflow.keras import layers\n",
        "from keras.utils import to_categorical #để chuyển đổi một mảng số nguyên thành một ma trận one-hot encoding\n",
        "\n",
        "(train_images,train_labels),(test_images,test_labels) = mnist.load_data()\n",
        "train_images.shape  #xac dinh kich thuoc cua anh"
      ]
    },
    {
      "cell_type": "code",
      "source": [
        "hinh = train_images[100]\n",
        "plt.imshow(hinh,cmap = plt.cm.binary)\n",
        "print('so này là:',train_labels[100])"
      ],
      "metadata": {
        "colab": {
          "base_uri": "https://localhost:8080/",
          "height": 282
        },
        "id": "Q2oHTJX2DVDC",
        "outputId": "c0a6c073-ede9-4364-b1fb-8b116787eef2"
      },
      "execution_count": 2,
      "outputs": [
        {
          "output_type": "stream",
          "name": "stdout",
          "text": [
            "so này là: 5\n"
          ]
        },
        {
          "output_type": "display_data",
          "data": {
            "text/plain": [
              "<Figure size 432x288 with 1 Axes>"
            ],
            "image/png": "[encoded data removed]"
          },
          "metadata": {
            "needs_background": "light"
          }
        }
      ]
    },
    {
      "cell_type": "code",
      "source": [
        "for i in range(10):\n",
        "  plt.subplot(3,5,i+1)\n",
        "  plt.tight_layout()\n",
        "\n",
        "  plt.imshow(train_images[i],cmap = 'gray',interpolation='none')\n",
        "  plt.title('số:{}'.format(train_labels[i]))\n",
        "\n",
        "  plt.xticks([])\n",
        "  plt.yticks([])\n"
      ],
      "metadata": {
        "colab": {
          "base_uri": "https://localhost:8080/",
          "height": 196
        },
        "id": "kVhACb1NDYN3",
        "outputId": "ad23a54b-29d2-454a-d387-73d9c9f7b263"
      },
      "execution_count": 6,
      "outputs": [
        {
          "output_type": "display_data",
          "data": {
            "text/plain": [
              "<Figure size 432x288 with 10 Axes>"
            ],
            "image/png": "[encoded data removed]"
          },
          "metadata": {}
        }
      ]
    },
    {
      "cell_type": "code",
      "source": [
        "model = models.Sequential()\n",
        "model.add(layers.Dense(512, input_shape=(28*28,), activation='relu'))\n",
        "model.add(layers.Dense(1, activation='linear', name='output_layer'))\n",
        "model.summary()"
      ],
      "metadata": {
        "colab": {
          "base_uri": "https://localhost:8080/"
        },
        "id": "qSaEmglGDoi9",
        "outputId": "3fe5b02e-983e-4c24-e30e-09ed74140167"
      },
      "execution_count": 7,
      "outputs": [
        {
          "output_type": "stream",
          "name": "stdout",
          "text": [
            "Model: \"sequential\"\n",
            "_________________________________________________________________\n",
            " Layer (type)                Output Shape              Param #   \n",
            "=================================================================\n",
            " dense (Dense)               (None, 512)               401920    \n",
            "                                                                 \n",
            " output_layer (Dense)        (None, 1)                 513       \n",
            "                                                                 \n",
            "=================================================================\n",
            "Total params: 402,433\n",
            "Trainable params: 402,433\n",
            "Non-trainable params: 0\n",
            "_________________________________________________________________\n"
          ]
        }
      ]
    },
    {
      "cell_type": "code",
      "source": [
        "#anh 2 chieu  \n",
        "#train nó\n",
        "\n",
        "train_images = train_images.reshape((60000,28*28))\n",
        "train_image = train_images.astype('float32')/255  #chuyen anh ve float 32\n",
        "test_images = test_images.reshape((10000,28*28))\n",
        "test_image = test_images.astype('float32')/255 \n",
        "\n",
        "\n",
        "from keras.utils import to_categorical #để chuyển đổi một mảng số nguyên thành một ma trận one-hot encoding\n",
        "train_label = to_categorical(train_labels,10)  # chuyển thanh 10 cột\n",
        "test_labels = to_categorical(train_labels,10)\n",
        "print(train_label[i])"
      ],
      "metadata": {
        "colab": {
          "base_uri": "https://localhost:8080/"
        },
        "id": "CHVhxhd7DrUq",
        "outputId": "e8886a28-3046-4ba2-fc3b-b5f4839204df"
      },
      "execution_count": 8,
      "outputs": [
        {
          "output_type": "stream",
          "name": "stdout",
          "text": [
            "[0. 0. 0. 0. 1. 0. 0. 0. 0. 0.]\n"
          ]
        }
      ]
    },
    {
      "cell_type": "code",
      "source": [
        "# Biên dịch mô hình\n",
        "model.compile(optimizer='rmsprop',\n",
        "              loss='categorical_crossentropy',\n",
        "              metrics=['accuracy'])\n",
        "#huan luyen mo hinh\n",
        "model.fit(train_images, train_labels, epochs=10, batch_size=128)\n",
        "\n",
        "#đánh giá độ chính xác\n",
        "test_loss, test_acc = model.evaluate(test_images, test_labels)\n",
        "\n",
        "print('test_accuracy: ',test_acc)\n",
        "print('test_loss: ',test_loss)"
      ],
      "metadata": {
        "id": "pMwYuMqMDuIC"
      },
      "execution_count": null,
      "outputs": []
    }
  ]
}
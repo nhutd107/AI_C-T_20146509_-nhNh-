{
  "nbformat": 4,
  "nbformat_minor": 0,
  "metadata": {
    "colab": {
      "provenance": [],
      "authorship_tag": "ABX9TyNduXqycRA0+vxvMx8Pyi6G",
      "include_colab_link": true
    },
    "kernelspec": {
      "name": "python3",
      "display_name": "Python 3"
    },
    "language_info": {
      "name": "python"
    }
  },
  "cells": [
    {
      "cell_type": "markdown",
      "metadata": {
        "id": "view-in-github",
        "colab_type": "text"
      },
      "source": [
        "<a href=\"https://colab.research.google.com/github/nhutd107/AI_CDT_20146509_-D.Nhu-/blob/main/ANN_part1.ipynb\" target=\"_parent\"><img src=\"https://colab.research.google.com/assets/colab-badge.svg\" alt=\"Open In Colab\"/></a>"
      ]
    },
    {
      "cell_type": "code",
      "execution_count": 9,
      "metadata": {
        "colab": {
          "base_uri": "https://localhost:8080/"
        },
        "id": "bcnL1gG3j8sT",
        "outputId": "7038836a-fde6-49d1-d394-e9d7222bf9df"
      },
      "outputs": [
        {
          "output_type": "execute_result",
          "data": {
            "text/plain": [
              "1.0"
            ]
          },
          "metadata": {},
          "execution_count": 9
        }
      ],
      "source": [
        "from sklearn.linear_model import Perceptron\n",
        "#cu cap du lieu\n",
        "x = [[0,0],[1,1],[1,0],[1,1]]\n",
        "t = [0,1,1,1]\n",
        "\n",
        "#tao mo hinh\n",
        "model = Perceptron()\n",
        "model.fit(x,t)\n",
        "model.score(x,t)\n"
      ]
    },
    {
      "cell_type": "code",
      "source": [
        "x1 = [[0.5,-1],[0.5,0.5],[-10,1],[3,1]]  #nen tang phan loai @ số lượng cột là đặc tính\n",
        "y1 = model.predict(x1)                   # số hàng Số lượng mẫu\n",
        "print(y1)                                 # x và t phải tưởng đồng với nhau\n",
        "\n",
        "#do chinh xac\n",
        "model.score(x1,y1)"
      ],
      "metadata": {
        "colab": {
          "base_uri": "https://localhost:8080/"
        },
        "id": "inSp-p9_sxoi",
        "outputId": "fca704d8-da46-4dec-9e01-4f46c9067c70"
      },
      "execution_count": 15,
      "outputs": [
        {
          "output_type": "stream",
          "name": "stdout",
          "text": [
            "[0 1 0 1]\n"
          ]
        },
        {
          "output_type": "execute_result",
          "data": {
            "text/plain": [
              "1.0"
            ]
          },
          "metadata": {},
          "execution_count": 15
        }
      ]
    },
    {
      "cell_type": "code",
      "source": [
        "from sklearn.linear_model import Perceptron\n",
        "#cu cap du lieu\n",
        "x = [[-0.5,-0.5],[-0.5,-0.5],[0.3,-0.5],[-0.1,1]]\n",
        "t = [1,1,0,0]\n",
        "\n",
        "#tao mo hinh\n",
        "model = Perceptron()\n",
        "model.fit(x,t)\n",
        "model.score(x,t)\n",
        "\n"
      ],
      "metadata": {
        "colab": {
          "base_uri": "https://localhost:8080/"
        },
        "id": "GV4joj1ZuUTl",
        "outputId": "f05f3534-e3ca-415d-b9e9-6a0a51f0c153"
      },
      "execution_count": 20,
      "outputs": [
        {
          "output_type": "execute_result",
          "data": {
            "text/plain": [
              "1.0"
            ]
          },
          "metadata": {},
          "execution_count": 20
        }
      ]
    },
    {
      "cell_type": "code",
      "source": [
        "x1 = [[0.4,1],[0.34,3],[5,16],[4,14]]  #cho giá trị thử\n",
        "y1 = model.predict(x1)\n",
        "\n",
        "#do chinh xac\n",
        "model.score(x1,y1)"
      ],
      "metadata": {
        "colab": {
          "base_uri": "https://localhost:8080/"
        },
        "id": "ghBVgk9gvFZc",
        "outputId": "64b42dea-e8fc-434b-82de-79dca2078116"
      },
      "execution_count": 22,
      "outputs": [
        {
          "output_type": "execute_result",
          "data": {
            "text/plain": [
              "1.0"
            ]
          },
          "metadata": {},
          "execution_count": 22
        }
      ]
    },
    {
      "cell_type": "code",
      "source": [
        "import numpy as np\n",
        "import seaborn as sns\n",
        "import matplotlib.pyplot as plt\n",
        "from sklearn import datasets\n",
        "from sklearn.preprocessing import StandardScaler\n",
        "\n",
        "# Load iris dataset\n",
        "iris = datasets.load_iris()\n",
        "\n",
        "# Scale the data\n",
        "scaler = StandardScaler()\n",
        "iris_data_scaled = scaler.fit_transform(iris.data)\n",
        "\n",
        "# Compute the correlation matrix\n",
        "corr_matrix = np.corrcoef(iris_data_scaled.T)\n",
        "\n",
        "# Plot the correlation matrix\n",
        "sns.heatmap(corr_matrix, annot=True, cmap='coolwarm')\n",
        "\n",
        "plt.title('Correlation Matrix of Iris Dataset')\n",
        "plt.show()\n"
      ],
      "metadata": {
        "colab": {
          "base_uri": "https://localhost:8080/",
          "height": 281
        },
        "id": "X4iZi6w4xjQR",
        "outputId": "eea07979-566f-4b64-e837-e70805ba9c80"
      },
      "execution_count": 52,
      "outputs": [
        {
          "output_type": "display_data",
          "data": {
            "text/plain": [
              "<Figure size 432x288 with 2 Axes>"
            ],
            "image/png": "[encoded data removed]"
          },
          "metadata": {
            "needs_background": "light"
          }
        }
      ]
    },
    {
      "cell_type": "code",
      "source": [
        "#hiển thị 5 dòng đầu tiên của dữ liệu hoa iris.\n",
        "x = iris.data   \n",
        "y = iris.target\n",
        "\n",
        "print(x[:5])\n",
        "print(y[:5])"
      ],
      "metadata": {
        "id": "zjInzQZG2a54"
      },
      "execution_count": null,
      "outputs": []
    },
    {
      "cell_type": "code",
      "source": [
        "x_train,x_test,y_train,y_test = train_test_split(x,y,test_size = 0.3) \n",
        "sc = StandardScaler()\n",
        "sc.fit(x_train)\n",
        "\n",
        "x_train_std = sc.transform(x_train)\n",
        "x_test_std = sc.transform(x_test)\n",
        "print(x_test_std)\n",
        "print(x_train_std)"
      ],
      "metadata": {
        "id": "g2hAxzL_3GMO"
      },
      "execution_count": null,
      "outputs": []
    },
    {
      "cell_type": "code",
      "source": [
        "model= Perceptron(max_iter = 40,eta0 =0.1,random_state = 0)\n",
        "model.fit(x_train,y_train)\n",
        "y_pred = model.predict(x_test_std)\n",
        "print(y_test)\n",
        "print(y_pred)\n",
        "print('do chinh xac cua mo hinh: ', accuracy_score(y_test,y_pred))"
      ],
      "metadata": {
        "id": "o7WpVaJw6ZUw"
      },
      "execution_count": null,
      "outputs": []
    },
    {
      "cell_type": "code",
      "source": [
        "import pandas as pd\n",
        "import numpy as np\n",
        "url = 'crabs.csv'\n",
        "data = pd.read_csv(url)\n",
        "data1 =data[(data['speies'] =='B')]\n",
        "\n",
        "\n"
      ],
      "metadata": {
        "id": "JUh7PtgZ98-9"
      },
      "execution_count": 80,
      "outputs": []
    },
    {
      "cell_type": "code",
      "source": [
        "y = data['sex']\n",
        "data = data.drop(data.columns[[0]], axis = 1)\n",
        "data = data.replace(\"M\",1)\n",
        "data = data.replace(\"F\",0)\n",
        "print(data)\n",
        "\n"
      ],
      "metadata": {
        "colab": {
          "base_uri": "https://localhost:8080/"
        },
        "id": "soAv7RbvBfpB",
        "outputId": "52edd5ad-ff98-4e36-95af-8257b3e2f54e"
      },
      "execution_count": 81,
      "outputs": [
        {
          "output_type": "stream",
          "name": "stdout",
          "text": [
            "     sex  index  fontallip  rearwidth  length  width  depth\n",
            "0      1      1        8.1        6.7    16.1   19.0    7.0\n",
            "1      1      2        8.8        7.7    18.1   20.8    7.4\n",
            "2      1      3        9.2        7.8    19.0   22.4    7.7\n",
            "3      1      4        9.6        7.9    20.1   23.1    8.2\n",
            "4      1      5        9.8        8.0    20.3   23.0    8.2\n",
            "..   ...    ...        ...        ...     ...    ...    ...\n",
            "195    0     46       21.4       18.0    41.2   46.2   18.7\n",
            "196    0     47       21.7       17.1    41.7   47.2   19.6\n",
            "197    0     48       21.9       17.2    42.6   47.4   19.5\n",
            "198    0     49       22.5       17.2    43.0   48.7   19.8\n",
            "199    0     50       23.1       20.2    46.2   52.5   21.1\n",
            "\n",
            "[200 rows x 7 columns]\n"
          ]
        }
      ]
    },
    {
      "cell_type": "code",
      "source": [
        "\n",
        "X = data[['fontallip', 'rearwidth', 'length', 'width', 'depth']].to_numpy()\n",
        "Y = data['sex'].to_numpy()\n",
        "\n",
        "#chia train va test\n",
        "X_train, X_test, Y_train, Y_test = train_test_split(X, Y, test_size = 0.3) #testsize = 0.3 => trainsize = 0.7\n",
        "#scale du lieu\n",
        "sc = StandardScaler()\n",
        "#training\n",
        "sc.fit(X_train)\n",
        "\n",
        "X_train_std = sc.transform(X_train)\n",
        "X_test_std = sc.transform(X_test)\n",
        "\n",
        "model = Perceptron(max_iter = 40, eta0 = 0.1, random_state = 0)    #so lan hoc: 40 lan\n",
        "                                                                  #toc do hoc: 0.1 (cang lon sai so cang nhieu) (la so duong)\n",
        "                                                                  #trang thai lay gia tri: 0\n",
        "model.fit(X_train_std, Y_train)\n",
        "Y_pred = model.predict(X_test_std)\n",
        "print(Y_pred)\n",
        "print(Y_test)\n",
        "print(\"Do chinh xac cua mo hinh: \", accuracy_score(Y_test, Y_pred))"
      ],
      "metadata": {
        "colab": {
          "base_uri": "https://localhost:8080/"
        },
        "id": "XakZ9br0IDJ-",
        "outputId": "1d48ad40-9980-4cc6-e32b-a3b6c91071f9"
      },
      "execution_count": 82,
      "outputs": [
        {
          "output_type": "stream",
          "name": "stdout",
          "text": [
            "[1 0 0 0 0 0 0 1 0 0 0 0 0 1 0 1 1 0 1 1 1 1 0 0 1 0 1 0 0 1 0 1 1 0 0 0 1\n",
            " 1 1 0 1 0 0 1 0 1 0 1 0 0 1 1 0 0 0 0 0 0 0 0]\n",
            "[1 0 0 0 0 1 0 1 0 0 0 0 0 1 0 1 1 0 1 1 1 1 0 0 1 0 1 0 0 1 0 1 1 0 0 0 1\n",
            " 1 1 0 1 0 0 1 0 1 0 1 0 0 1 1 0 0 0 0 0 0 0 0]\n",
            "Do chinh xac cua mo hinh:  0.9833333333333333\n"
          ]
        }
      ]
    }
  ]
}
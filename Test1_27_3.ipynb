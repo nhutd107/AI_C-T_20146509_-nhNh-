{
  "nbformat": 4,
  "nbformat_minor": 0,
  "metadata": {
    "colab": {
      "provenance": [],
      "authorship_tag": "ABX9TyPwMN7hZLpuMnBBacHh4ZgC",
      "include_colab_link": true
    },
    "kernelspec": {
      "name": "python3",
      "display_name": "Python 3"
    },
    "language_info": {
      "name": "python"
    }
  },
  "cells": [
    {
      "cell_type": "markdown",
      "metadata": {
        "id": "view-in-github",
        "colab_type": "text"
      },
      "source": [
        "<a href=\"https://colab.research.google.com/github/nhutd107/AI_CDT_20146509_-D.Nhu-/blob/main/Test1_27_3.ipynb\" target=\"_parent\"><img src=\"https://colab.research.google.com/assets/colab-badge.svg\" alt=\"Open In Colab\"/></a>"
      ]
    },
    {
      "cell_type": "code",
      "execution_count": 2,
      "metadata": {
        "id": "9yLoWCN4muBY"
      },
      "outputs": [],
      "source": [
        "from sklearn import datasets                         \n",
        "from sklearn.linear_model import Perceptron\n",
        "from sklearn.model_selection import train_test_split \n",
        "from sklearn.metrics import accuracy_score           \n",
        "from sklearn.preprocessing import StandardScaler     \n",
        "import pandas as pd\n",
        "import numpy as np"
      ]
    },
    {
      "cell_type": "code",
      "source": [
        "url = 'lung_cancer_examples.csv'\n",
        "data = pd.read_csv(url)\n",
        "\n",
        "X = data[['Age', 'Smokes', 'AreaQ', 'Alkhol']].to_numpy()\n",
        "Y = data['Result'].to_numpy()\n",
        "\n",
        "#chia train va test\n",
        "X_train, X_test, Y_train, Y_test = train_test_split(X, Y, test_size = 0.3)   # (train 0.7,test 0.3)\n",
        "\n",
        "#scale du lieu\n",
        "sc = StandardScaler()\n",
        "#training\n",
        "sc.fit(X_train)\n",
        "\n",
        "X_train_std = sc.transform(X_train)\n",
        "X_test_std = sc.transform(X_test)\n",
        "\n",
        "model = Perceptron(max_iter = 40, eta0 = 0.1, random_state = 0)    \n",
        "                                                                  \n",
        "#do chinh xac                                                           \n",
        "model.fit(X_train_std, Y_train)\n",
        "Y_pred = model.predict(X_test_std)\n",
        "\n",
        "print(Y_pred)\n",
        "print(Y_test)\n",
        "print(\"Do chinh xac cua mo hinh: \", accuracy_score(Y_test, Y_pred))"
      ],
      "metadata": {
        "colab": {
          "base_uri": "https://localhost:8080/"
        },
        "id": "6o8J_EAIn9KH",
        "outputId": "79330de8-0106-4d4f-c592-e291098d8bda"
      },
      "execution_count": 4,
      "outputs": [
        {
          "output_type": "stream",
          "name": "stdout",
          "text": [
            "[0 1 1 1 1 1 1 0 1 0 0 0 1 1 0 0 0 0]\n",
            "[0 1 1 0 1 1 1 0 1 0 0 0 1 1 0 0 0 0]\n",
            "Do chinh xac cua mo hinh:  0.9444444444444444\n"
          ]
        }
      ]
    }
  ]
}
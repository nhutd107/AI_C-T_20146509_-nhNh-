{
  "nbformat": 4,
  "nbformat_minor": 0,
  "metadata": {
    "colab": {
      "provenance": [],
      "authorship_tag": "ABX9TyNs535yQsMisgp6cWhSvgfc",
      "include_colab_link": true
    },
    "kernelspec": {
      "name": "python3",
      "display_name": "Python 3"
    },
    "language_info": {
      "name": "python"
    }
  },
  "cells": [
    {
      "cell_type": "markdown",
      "metadata": {
        "id": "view-in-github",
        "colab_type": "text"
      },
      "source": [
        "<a href=\"https://colab.research.google.com/github/nhutd107/AI_CDT_20146509_-D.Nhu-/blob/main/cifar100.ipynb\" target=\"_parent\"><img src=\"https://colab.research.google.com/assets/colab-badge.svg\" alt=\"Open In Colab\"/></a>"
      ]
    },
    {
      "cell_type": "code",
      "execution_count": 16,
      "metadata": {
        "colab": {
          "base_uri": "https://localhost:8080/"
        },
        "id": "apFmnke6ynBO",
        "outputId": "b5d40346-5855-40b3-ab1c-698f37656cab"
      },
      "outputs": [
        {
          "output_type": "stream",
          "name": "stdout",
          "text": [
            "(50000, 32, 32, 3)\n",
            "(10000, 32, 32, 3)\n",
            "(50000, 1)\n",
            "(10000, 1)\n"
          ]
        }
      ],
      "source": [
        "from keras.datasets import cifar100\n",
        "from keras.datasets import cifar100\n",
        "from keras.models import Sequential  #thư viên cấu hình\n",
        "from keras.layers import Dense\n",
        "import matplotlib.pyplot as plt\n",
        "\n",
        "# load the CIFAR-100 dataset\n",
        "(x_train, y_train), (x_test, y_test) = cifar100.load_data()\n",
        "\n",
        "print(x_train.shape)\n",
        "print(x_test.shape)\n",
        "print(y_train.shape)\n",
        "print(y_test.shape)\n"
      ]
    },
    {
      "cell_type": "code",
      "source": [
        "print('số lượng ảnh trong tập huấn luyện: ',x_train.shape[0])\n",
        "print('số lượng ảnh trong tập kiểm tra: ' ,x_test.shape[0])"
      ],
      "metadata": {
        "colab": {
          "base_uri": "https://localhost:8080/"
        },
        "id": "8mDfb0Oazejr",
        "outputId": "f153417d-e010-4ba4-bcd7-1bd80c225a11"
      },
      "execution_count": 17,
      "outputs": [
        {
          "output_type": "stream",
          "name": "stdout",
          "text": [
            "số lượng ảnh trong tập huấn luyện:  50000\n",
            "số lượng ảnh trong tập kiểm tra:  10000\n"
          ]
        }
      ]
    },
    {
      "cell_type": "code",
      "source": [
        "#đổi man 4 chieu vè 2 chieu [50000,3072]\n",
        "x_train = x_train.reshape(50000,32*32*3)\n",
        "x_train = x_train.astype('float32') / 255\n",
        "\n"
      ],
      "metadata": {
        "id": "NQynBjHOz4ky"
      },
      "execution_count": 18,
      "outputs": []
    },
    {
      "cell_type": "code",
      "source": [
        "from keras.utils import to_categorical\n",
        "\n",
        "#sử lí nhãn trước khi\n",
        "y_train = to_categorical(y_train, 100)"
      ],
      "metadata": {
        "id": "yq1zltei1Pp-"
      },
      "execution_count": 19,
      "outputs": []
    },
    {
      "cell_type": "code",
      "source": [
        "#cấu hình\n",
        "from keras.models import Sequential  \n",
        "from keras.layers import Dense\n",
        "\n",
        "# create a sequential model\n",
        "model = Sequential()\n",
        "\n",
        "#tạo mô hình\n",
        "model.add(Dense(2000, input_shape=(32*32*3,), activation='relu'))\n",
        "model.add(Dense(1000, activation='relu'))\n",
        "model.add(Dense(100, activation='softmax'))\n",
        "\n",
        "#biên dịch\n",
        "model.compile(loss='categorical_crossentropy', optimizer='adam', metrics=['accuracy'])\n",
        "\n",
        "#huấn luyện\n",
        "model.fit(x_train, y_train, batch_size=128, epochs=10)\n",
        "\n",
        "#độ chính xác \n",
        "loss, accuracy = model.evaluate(x_test, y_test)\n",
        "print('Accuracy:', accuracy)\n",
        "\n",
        "\n"
      ],
      "metadata": {
        "id": "gWIkYiKq2DRT"
      },
      "execution_count": null,
      "outputs": []
    },
    {
      "cell_type": "code",
      "source": [
        "\n",
        "\n",
        "from keras.models import load_model\n",
        "\n",
        "#lưu data vào driver\n",
        "model.save('my_model.h5')\n",
        "\n",
        "# tải lại mô hình từ tệp tin\n",
        "loaded_model = load_model('my_model.h5')\n",
        "\n"
      ],
      "metadata": {
        "id": "CbTbkBzg5oIA"
      },
      "execution_count": 35,
      "outputs": []
    }
  ]
}